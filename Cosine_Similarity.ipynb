{
 "cells": [
  {
   "cell_type": "code",
   "execution_count": 1,
   "id": "8ca08ace",
   "metadata": {},
   "outputs": [
    {
     "name": "stdout",
     "output_type": "stream",
     "text": [
      "cosine Similarity:  1.0\n"
     ]
    }
   ],
   "source": [
    "import math\n",
    "A=[1,2,3]\n",
    "B=[1,2,3]\n",
    "AB=0\n",
    "sumA=0\n",
    "sumB=0\n",
    "for i in range(len(A)):\n",
    "    AB+=A[i]*B[i]\n",
    "    sumA+=A[i]*A[i]\n",
    "    sumB+=B[i]*B[i]\n",
    "CosineSi=AB/(math.sqrt(sumA)*math.sqrt(sumB))\n",
    "print('cosine Similarity: ', CosineSi)"
   ]
  },
  {
   "cell_type": "code",
   "execution_count": 3,
   "id": "ac89cce7",
   "metadata": {},
   "outputs": [
    {
     "data": {
      "text/plain": [
       "array([[0.96832966]])"
      ]
     },
     "execution_count": 3,
     "metadata": {},
     "output_type": "execute_result"
    }
   ],
   "source": [
    "from sklearn.metrics.pairwise import cosine_similarity,cosine_distances\n",
    "cosine_similarity([[1,2,3]],[[5,6,7]])"
   ]
  },
  {
   "cell_type": "code",
   "execution_count": 4,
   "id": "153d0dbd",
   "metadata": {},
   "outputs": [
    {
     "data": {
      "text/plain": [
       "array([[0.03167034]])"
      ]
     },
     "execution_count": 4,
     "metadata": {},
     "output_type": "execute_result"
    }
   ],
   "source": [
    "cosine_distances([[1,2,3]],[[5,6,7]])"
   ]
  },
  {
   "cell_type": "code",
   "execution_count": 6,
   "id": "e83ce176",
   "metadata": {},
   "outputs": [],
   "source": [
    "from sklearn.datasets import load_iris\n",
    "from sklearn.model_selection import train_test_split\n",
    "from sklearn.naive_bayes import GaussianNB\n",
    "from sklearn.metrics import accuracy_score\n",
    "from sklearn.preprocessing import LabelEncoder\n",
    "import numpy as np"
   ]
  },
  {
   "cell_type": "code",
   "execution_count": 13,
   "id": "83a2b3d4",
   "metadata": {},
   "outputs": [],
   "source": [
    "iris=load_iris()\n",
    "X=iris.data\n",
    "y=iris.target\n"
   ]
  },
  {
   "cell_type": "code",
   "execution_count": 11,
   "id": "0c01e433",
   "metadata": {},
   "outputs": [],
   "source": [
    "le=LabelEncoder()\n",
    "y=le.fit_transform(y)"
   ]
  },
  {
   "cell_type": "code",
   "execution_count": 15,
   "id": "53910ded",
   "metadata": {},
   "outputs": [],
   "source": [
    "X_train,X_test,y_train,y_test=train_test_split(X,y,test_size=0.3,random_state=None)"
   ]
  },
  {
   "cell_type": "code",
   "execution_count": 26,
   "id": "88f7824a",
   "metadata": {},
   "outputs": [
    {
     "data": {
      "text/plain": [
       "GaussianNB()"
      ]
     },
     "execution_count": 26,
     "metadata": {},
     "output_type": "execute_result"
    }
   ],
   "source": [
    "nb_model=GaussianNB()\n",
    "nb_model.fit(X_train,y_train)"
   ]
  },
  {
   "cell_type": "code",
   "execution_count": 25,
   "id": "6526b7ec",
   "metadata": {},
   "outputs": [
    {
     "name": "stdout",
     "output_type": "stream",
     "text": [
      "[2 1 0 1 0 2 2 0 0 1 1 0 1 0 1 2 2 0 0 2 1 1 2 1 0 0 2 2 0 0 1 2 1 2 0 0 2\n",
      " 0 1 2 2 1 2 1 0]\n"
     ]
    }
   ],
   "source": [
    "y_pred = rb_model.predict(X_test)\n",
    "print(y_pred)"
   ]
  },
  {
   "cell_type": "code",
   "execution_count": 21,
   "id": "eba4382b",
   "metadata": {},
   "outputs": [
    {
     "name": "stdout",
     "output_type": "stream",
     "text": [
      "[2 1 0 1 0 2 2 0 0 1 1 0 1 0 1 2 2 0 0 2 1 1 2 1 0 0 2 2 0 0 1 2 1 2 0 0 2\n",
      " 0 1 2 2 1 2 1 0]\n"
     ]
    }
   ],
   "source": [
    "y_pred=le.inverse_transform(y_pred)\n",
    "print(y_pred)"
   ]
  },
  {
   "cell_type": "code",
   "execution_count": 22,
   "id": "29824d9f",
   "metadata": {},
   "outputs": [
    {
     "name": "stdout",
     "output_type": "stream",
     "text": [
      "Accuracy: 0.9555555555555556\n"
     ]
    }
   ],
   "source": [
    "accuracy=accuracy_score(y_test,y_pred)\n",
    "print(\"Accuracy:\",accuracy)"
   ]
  },
  {
   "cell_type": "code",
   "execution_count": 28,
   "id": "b5c1e9a6",
   "metadata": {},
   "outputs": [
    {
     "name": "stdout",
     "output_type": "stream",
     "text": [
      "Predicted class: [1]\n"
     ]
    }
   ],
   "source": [
    "new_observation=np.array([[5.8,3.0,4.5,1.5]])\n",
    "predicted_class=nb_model.predict(new_observation)\n",
    "predicted_class=le.inverse_transform(predicted_class)\n",
    "print(\"Predicted class:\",predicted_class)\n"
   ]
  },
  {
   "cell_type": "code",
   "execution_count": null,
   "id": "67d02946",
   "metadata": {},
   "outputs": [],
   "source": []
  }
 ],
 "metadata": {
  "kernelspec": {
   "display_name": "Python 3 (ipykernel)",
   "language": "python",
   "name": "python3"
  },
  "language_info": {
   "codemirror_mode": {
    "name": "ipython",
    "version": 3
   },
   "file_extension": ".py",
   "mimetype": "text/x-python",
   "name": "python",
   "nbconvert_exporter": "python",
   "pygments_lexer": "ipython3",
   "version": "3.9.13"
  }
 },
 "nbformat": 4,
 "nbformat_minor": 5
}
