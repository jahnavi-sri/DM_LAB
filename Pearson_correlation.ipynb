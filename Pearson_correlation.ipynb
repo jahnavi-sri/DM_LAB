{
  "nbformat": 4,
  "nbformat_minor": 0,
  "metadata": {
    "colab": {
      "provenance": [],
      "authorship_tag": "ABX9TyPzexrplmgI/KfHW73VGhiN",
      "include_colab_link": true
    },
    "kernelspec": {
      "name": "python3",
      "display_name": "Python 3"
    },
    "language_info": {
      "name": "python"
    }
  },
  "cells": [
    {
      "cell_type": "markdown",
      "metadata": {
        "id": "view-in-github",
        "colab_type": "text"
      },
      "source": [
        "<a href=\"https://colab.research.google.com/github/jahnavi-sri/DM_LAB/blob/main/Pearson_correlation.ipynb\" target=\"_parent\"><img src=\"https://colab.research.google.com/assets/colab-badge.svg\" alt=\"Open In Colab\"/></a>"
      ]
    },
    {
      "cell_type": "code",
      "execution_count": 1,
      "metadata": {
        "colab": {
          "base_uri": "https://localhost:8080/"
        },
        "id": "o-froQmTGo7U",
        "outputId": "1e000269-a229-4a79-cc69-226b96efbac9"
      },
      "outputs": [
        {
          "output_type": "stream",
          "name": "stdout",
          "text": [
            "Pearsonr Correlation -0.7000000000000001\n"
          ]
        }
      ],
      "source": [
        "from scipy.stats import pearsonr\n",
        "x=[-2,-1,0,1,2]\n",
        "y=[4,1,3,2,0]\n",
        "corr,_=pearsonr(x,y)\n",
        "print(\"Pearsonr Correlation\",corr)"
      ]
    },
    {
      "cell_type": "code",
      "source": [
        "import pandas as pd\n",
        "df=pd.read_excel('https://github.com/datagy/mediumdata/raw/master/Scores.xlsx')\n",
        "print(df.head())"
      ],
      "metadata": {
        "colab": {
          "base_uri": "https://localhost:8080/"
        },
        "id": "Ouf9viXhHVXo",
        "outputId": "3fed7374-35a5-46f1-a044-ae718830640c"
      },
      "execution_count": 4,
      "outputs": [
        {
          "output_type": "stream",
          "name": "stdout",
          "text": [
            "     English    History\n",
            "0  74.573424  86.496775\n",
            "1  75.115299  86.801171\n",
            "2  75.691345  87.981466\n",
            "3  73.888714  85.411392\n",
            "4  75.015225  86.812830\n"
          ]
        }
      ]
    },
    {
      "cell_type": "code",
      "source": [
        "print(df.corr())"
      ],
      "metadata": {
        "colab": {
          "base_uri": "https://localhost:8080/"
        },
        "id": "AeSGubrVPAZh",
        "outputId": "fe4b9494-4ed0-46c7-be29-8ec0dc83a9bb"
      },
      "execution_count": 6,
      "outputs": [
        {
          "output_type": "stream",
          "name": "stdout",
          "text": [
            "          English   History\n",
            "English  1.000000  0.930912\n",
            "History  0.930912  1.000000\n"
          ]
        }
      ]
    },
    {
      "cell_type": "code",
      "source": [],
      "metadata": {
        "id": "rMbV1CzqRuRh"
      },
      "execution_count": null,
      "outputs": []
    }
  ]
}