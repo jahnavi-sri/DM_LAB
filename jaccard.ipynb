{
 "cells": [
  {
   "cell_type": "code",
   "execution_count": 6,
   "id": "f7361aba",
   "metadata": {},
   "outputs": [
    {
     "name": "stdout",
     "output_type": "stream",
     "text": [
      "[1.0, 0.0, 0.0, 1.0, 1.0, 1.0]\n",
      "[0.0, 0.0, 1.0, 1.0, 1.0, 1.0]\n",
      "f00: 1\n",
      "f01: 1\n",
      "f10: 1\n",
      "f11: 3\n",
      "jacard similarity index: 0.6\n",
      "distance 0.4\n",
      "jaccard distance of index 0.4\n"
     ]
    }
   ],
   "source": [
    "import numpy as np\n",
    "x=[1.0,0.0,0.0,1.0,1.0,1.0]\n",
    "y=[0.0,0.0,1.0,1.0,1.0,1.0]\n",
    "print(x)\n",
    "print(y)\n",
    "f00,f01,f10,f11=0,0,0,0\n",
    "for i in range(0,6):\n",
    "    if x[i]==0 and y[i]==0 :\n",
    "        f00+=1\n",
    "    elif x[i]==0 and y[i]==1 :\n",
    "        f01+=1\n",
    "    elif x[i]==1 and y[i]==0 :\n",
    "        f10+=1\n",
    "    elif x[i]==1 and y[i]==1 :\n",
    "        f11+=1\n",
    "print('f00:',f00)\n",
    "print('f01:',f01)\n",
    "print('f10:',f10)\n",
    "print('f11:',f11)\n",
    "j=(f11)/(f01+f10+f11)\n",
    "print('jaccard similarity index:',j)\n",
    "dj=(f01+f10)/(f01+f10+f11)\n",
    "print('distance',dj)\n",
    "djj=1-j\n",
    "print('jaccard distance of index',djj)"
   ]
  },
  {
   "cell_type": "code",
   "execution_count": 7,
   "id": "f6624e13",
   "metadata": {},
   "outputs": [
    {
     "name": "stdout",
     "output_type": "stream",
     "text": [
      "distance 0.4\n"
     ]
    }
   ],
   "source": [
    "import numpy as np\n",
    "from scipy.spatial.distance import jaccard\n",
    "A=np.array([1,0,0,1,1,1])\n",
    "B=np.array([0,0,1,1,1,1])\n",
    "d=jaccard(A,B)\n",
    "print('distance',d)"
   ]
  },
  {
   "cell_type": "code",
   "execution_count": null,
   "id": "fe030477",
   "metadata": {},
   "outputs": [],
   "source": []
  }
 ],
 "metadata": {
  "kernelspec": {
   "display_name": "Python 3 (ipykernel)",
   "language": "python",
   "name": "python3"
  },
  "language_info": {
   "codemirror_mode": {
    "name": "ipython",
    "version": 3
   },
   "file_extension": ".py",
   "mimetype": "text/x-python",
   "name": "python",
   "nbconvert_exporter": "python",
   "pygments_lexer": "ipython3",
   "version": "3.9.13"
  }
 },
 "nbformat": 4,
 "nbformat_minor": 5
}
